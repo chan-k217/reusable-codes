{
 "cells": [
  {
   "cell_type": "code",
   "execution_count": 1,
   "metadata": {},
   "outputs": [],
   "source": [
    "from difflib import SequenceMatcher\n",
    "import sys\n",
    "import re\n",
    "import pandas as pd"
   ]
  },
  {
   "cell_type": "code",
   "execution_count": 48,
   "metadata": {},
   "outputs": [],
   "source": [
    "def get_best_match(a, b_list):\n",
    "    if a in ['',None]:\n",
    "        return ''\n",
    "    \n",
    "    highest_score = 0\n",
    "    best_match = ''\n",
    "    for b in b_list:\n",
    "        score = SequenceMatcher(None, a.lower(), b.lower()).ratio()\n",
    "        if score > highest_score:\n",
    "            highest_score = score\n",
    "            best_match = b\n",
    "    if highest_score < 0.5:\n",
    "        return ''\n",
    "    return best_match"
   ]
  },
  {
   "cell_type": "code",
   "execution_count": 53,
   "metadata": {},
   "outputs": [
    {
     "data": {
      "text/plain": [
       "'True'"
      ]
     },
     "execution_count": 53,
     "metadata": {},
     "output_type": "execute_result"
    }
   ],
   "source": [
    "a = 'true'\n",
    "b_list = ['True','False']\n",
    "\n",
    "get_best_match(str(a),b_list)"
   ]
  }
 ],
 "metadata": {
  "kernelspec": {
   "display_name": "Python 3",
   "language": "python",
   "name": "python3"
  },
  "language_info": {
   "codemirror_mode": {
    "name": "ipython",
    "version": 3
   },
   "file_extension": ".py",
   "mimetype": "text/x-python",
   "name": "python",
   "nbconvert_exporter": "python",
   "pygments_lexer": "ipython3",
   "version": "3.9.6"
  }
 },
 "nbformat": 4,
 "nbformat_minor": 2
}
